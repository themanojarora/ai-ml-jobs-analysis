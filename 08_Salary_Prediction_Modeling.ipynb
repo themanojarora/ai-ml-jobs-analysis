{
 "cells": [
  {
   "cell_type": "markdown",
   "id": "8fe7925f",
   "metadata": {},
   "source": [
    "# AI Job Market Analysis - Salary Prediction Modeling\n",
    "This notebook builds a regression model to predict salaries based on experience, company size, location, and skills."
   ]
  },
  {
   "cell_type": "code",
   "execution_count": 1,
   "id": "bc3d7199",
   "metadata": {},
   "outputs": [],
   "source": [
    "import pandas as pd\n",
    "import numpy as np\n",
    "import matplotlib.pyplot as plt\n",
    "import seaborn as sns\n",
    "from sklearn.model_selection import train_test_split\n",
    "from sklearn.linear_model import LinearRegression\n",
    "from sklearn.ensemble import RandomForestRegressor\n",
    "from sklearn.metrics import mean_squared_error, r2_score\n",
    "sns.set(style='whitegrid')\n",
    "df = pd.read_csv('ai_job_dataset.csv')"
   ]
  },
  {
   "cell_type": "code",
   "execution_count": 2,
   "id": "a930426c",
   "metadata": {},
   "outputs": [],
   "source": [
    "# Prepare features\n",
    "df['experience_level'] = df['experience_level'].astype('category').cat.codes\n",
    "df['employment_type'] = df['employment_type'].astype('category').cat.codes\n",
    "df['company_size'] = df['company_size'].astype('category').cat.codes\n",
    "X = df[['experience_level', 'employment_type', 'company_size', 'remote_ratio']]\n",
    "y = df['salary_usd']\n",
    "X_train, X_test, y_train, y_test = train_test_split(X, y, test_size=0.2, random_state=42)"
   ]
  },
  {
   "cell_type": "code",
   "execution_count": 3,
   "id": "ba2dd2a7",
   "metadata": {},
   "outputs": [
    {
     "name": "stdout",
     "output_type": "stream",
     "text": [
      "R2 Score: 0.64\n",
      "MSE: 1305622380.58\n"
     ]
    }
   ],
   "source": [
    "# Train model\n",
    "model = RandomForestRegressor(n_estimators=100, random_state=42)\n",
    "model.fit(X_train, y_train)\n",
    "y_pred = model.predict(X_test)\n",
    "print(f'R2 Score: {r2_score(y_test, y_pred):.2f}')\n",
    "print(f'MSE: {mean_squared_error(y_test, y_pred):.2f}')"
   ]
  }
 ],
 "metadata": {
  "kernelspec": {
   "display_name": "Python 3 (ipykernel)",
   "language": "python",
   "name": "python3"
  },
  "language_info": {
   "codemirror_mode": {
    "name": "ipython",
    "version": 3
   },
   "file_extension": ".py",
   "mimetype": "text/x-python",
   "name": "python",
   "nbconvert_exporter": "python",
   "pygments_lexer": "ipython3",
   "version": "3.11.7"
  }
 },
 "nbformat": 4,
 "nbformat_minor": 5
}
