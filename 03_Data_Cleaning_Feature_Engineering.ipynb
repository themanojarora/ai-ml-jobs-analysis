{
 "cells": [
  {
   "cell_type": "markdown",
   "id": "55102418",
   "metadata": {},
   "source": [
    "# AI Job Market Analysis - Data Cleaning and Feature Engineering"
   ]
  },
  {
   "cell_type": "code",
   "execution_count": 1,
   "id": "fdcbe936",
   "metadata": {},
   "outputs": [],
   "source": [
    "import pandas as pd\n",
    "df = pd.read_csv('ai_job_dataset.csv')"
   ]
  },
  {
   "cell_type": "code",
   "execution_count": 2,
   "id": "ade2d1cb",
   "metadata": {},
   "outputs": [],
   "source": [
    "# Convert date fields to datetime\n",
    "df['posting_date'] = pd.to_datetime(df['posting_date'])\n",
    "df['application_deadline'] = pd.to_datetime(df['application_deadline'])"
   ]
  },
  {
   "cell_type": "code",
   "execution_count": 3,
   "id": "50e91432",
   "metadata": {},
   "outputs": [],
   "source": [
    "# Create job posting duration in days\n",
    "df['job_posting_duration'] = (df['application_deadline'] - df['posting_date']).dt.days"
   ]
  },
  {
   "cell_type": "code",
   "execution_count": 4,
   "id": "5be0706a",
   "metadata": {},
   "outputs": [],
   "source": [
    "# Create a remote_friendly flag (1 if remote_ratio >= 50)\n",
    "df['remote_friendly'] = df['remote_ratio'].apply(lambda x: 1 if x >= 50 else 0)"
   ]
  },
  {
   "cell_type": "code",
   "execution_count": 5,
   "id": "f3c28474",
   "metadata": {},
   "outputs": [],
   "source": [
    "# Convert categorical columns to lowercase and strip whitespace\n",
    "for col in ['job_title', 'experience_level', 'employment_type', 'company_location', 'company_size', 'employee_residence', 'education_required', 'industry']:\n",
    "    df[col] = df[col].str.strip().str.lower()"
   ]
  },
  {
   "cell_type": "code",
   "execution_count": 6,
   "id": "e91cb90c",
   "metadata": {},
   "outputs": [
    {
     "data": {
      "text/html": [
       "<div>\n",
       "<style scoped>\n",
       "    .dataframe tbody tr th:only-of-type {\n",
       "        vertical-align: middle;\n",
       "    }\n",
       "\n",
       "    .dataframe tbody tr th {\n",
       "        vertical-align: top;\n",
       "    }\n",
       "\n",
       "    .dataframe thead th {\n",
       "        text-align: right;\n",
       "    }\n",
       "</style>\n",
       "<table border=\"1\" class=\"dataframe\">\n",
       "  <thead>\n",
       "    <tr style=\"text-align: right;\">\n",
       "      <th></th>\n",
       "      <th>posting_date</th>\n",
       "      <th>application_deadline</th>\n",
       "      <th>job_posting_duration</th>\n",
       "      <th>remote_friendly</th>\n",
       "    </tr>\n",
       "  </thead>\n",
       "  <tbody>\n",
       "    <tr>\n",
       "      <th>0</th>\n",
       "      <td>2024-10-18</td>\n",
       "      <td>2024-11-07</td>\n",
       "      <td>20</td>\n",
       "      <td>1</td>\n",
       "    </tr>\n",
       "    <tr>\n",
       "      <th>1</th>\n",
       "      <td>2024-11-20</td>\n",
       "      <td>2025-01-11</td>\n",
       "      <td>52</td>\n",
       "      <td>1</td>\n",
       "    </tr>\n",
       "    <tr>\n",
       "      <th>2</th>\n",
       "      <td>2025-03-18</td>\n",
       "      <td>2025-04-07</td>\n",
       "      <td>20</td>\n",
       "      <td>0</td>\n",
       "    </tr>\n",
       "    <tr>\n",
       "      <th>3</th>\n",
       "      <td>2024-12-23</td>\n",
       "      <td>2025-02-24</td>\n",
       "      <td>63</td>\n",
       "      <td>1</td>\n",
       "    </tr>\n",
       "    <tr>\n",
       "      <th>4</th>\n",
       "      <td>2025-04-15</td>\n",
       "      <td>2025-06-23</td>\n",
       "      <td>69</td>\n",
       "      <td>1</td>\n",
       "    </tr>\n",
       "  </tbody>\n",
       "</table>\n",
       "</div>"
      ],
      "text/plain": [
       "  posting_date application_deadline  job_posting_duration  remote_friendly\n",
       "0   2024-10-18           2024-11-07                    20                1\n",
       "1   2024-11-20           2025-01-11                    52                1\n",
       "2   2025-03-18           2025-04-07                    20                0\n",
       "3   2024-12-23           2025-02-24                    63                1\n",
       "4   2025-04-15           2025-06-23                    69                1"
      ]
     },
     "execution_count": 6,
     "metadata": {},
     "output_type": "execute_result"
    }
   ],
   "source": [
    "df[['posting_date', 'application_deadline', 'job_posting_duration', 'remote_friendly']].head()"
   ]
  }
 ],
 "metadata": {
  "kernelspec": {
   "display_name": "Python 3 (ipykernel)",
   "language": "python",
   "name": "python3"
  },
  "language_info": {
   "codemirror_mode": {
    "name": "ipython",
    "version": 3
   },
   "file_extension": ".py",
   "mimetype": "text/x-python",
   "name": "python",
   "nbconvert_exporter": "python",
   "pygments_lexer": "ipython3",
   "version": "3.11.7"
  }
 },
 "nbformat": 4,
 "nbformat_minor": 5
}
